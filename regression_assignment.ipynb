{
 "cells": [
  {
   "attachments": {},
   "cell_type": "markdown",
   "metadata": {},
   "source": [
    "# SS154 Assignment 3: Spring 2023\n",
    "### Author: Muhammad Abdullah Khan"
   ]
  },
  {
   "cell_type": "code",
   "execution_count": 1,
   "metadata": {
    "vscode": {
     "languageId": "r"
    }
   },
   "outputs": [],
   "source": [
    "# install.packages(\"janitor\")\n",
    "# install.packages(\"stargazer\")\n",
    "# install.packages(\"modelsummary\")\n",
    "# install.packages(\"knitr\")\n",
    "# install.packages(\"dagitty\")\n",
    "# install.packages(\"IRdisplay\")\n",
    "# install.packages(\"margins\")\n",
    "# install.packages(\"AER\")\n",
    "# install.packages(\"MASS\")"
   ]
  },
  {
   "cell_type": "code",
   "execution_count": 23,
   "metadata": {
    "vscode": {
     "languageId": "r"
    }
   },
   "outputs": [],
   "source": [
    "# If you are using other packages, load them here. \n",
    "# If you don't have the following packages installed,\n",
    "# please install them first. But don't include the installation\n",
    "# code here because every time you knit this document they'll \n",
    "# be reinstalled which is not necessary!\n",
    "library(MASS)\n",
    "library(knitr)\n",
    "library(janitor)\n",
    "library(tidyverse)\n",
    "library(stargazer)\n",
    "library(modelsummary)\n",
    "library(dagitty)\n",
    "library(IRdisplay)\n",
    "library(margins)\n",
    "library(AER)"
   ]
  },
  {
   "cell_type": "code",
   "execution_count": 3,
   "metadata": {
    "vscode": {
     "languageId": "r"
    }
   },
   "outputs": [],
   "source": [
    "# Don't change the line below\n",
    "knitr::opts_chunk$set(echo = TRUE, warning=FALSE, message=FALSE, fig.width=6, fig.align=\"center\")"
   ]
  },
  {
   "cell_type": "code",
   "execution_count": 4,
   "metadata": {
    "vscode": {
     "languageId": "r"
    }
   },
   "outputs": [],
   "source": [
    "# we need to set the seed of R's random number generator, \n",
    "# in order to produce comparable results \n",
    "set.seed(1983)"
   ]
  },
  {
   "attachments": {},
   "cell_type": "markdown",
   "metadata": {},
   "source": [
    "### Question 1: A DGP-based example"
   ]
  },
  {
   "cell_type": "code",
   "execution_count": 5,
   "metadata": {
    "vscode": {
     "languageId": "r"
    }
   },
   "outputs": [
    {
     "data": {
      "text/html": [
       "<table class=\"dataframe\">\n",
       "<caption>A data.frame: 6 × 3</caption>\n",
       "<thead>\n",
       "\t<tr><th></th><th scope=col>D</th><th scope=col>Y</th><th scope=col>X1</th></tr>\n",
       "\t<tr><th></th><th scope=col>&lt;dbl&gt;</th><th scope=col>&lt;dbl&gt;</th><th scope=col>&lt;dbl&gt;</th></tr>\n",
       "</thead>\n",
       "<tbody>\n",
       "\t<tr><th scope=row>1</th><td>0</td><td>1.553940</td><td>-3.729457</td></tr>\n",
       "\t<tr><th scope=row>2</th><td>0</td><td>1.993194</td><td>-4.783665</td></tr>\n",
       "\t<tr><th scope=row>3</th><td>0</td><td>3.983957</td><td>-9.561497</td></tr>\n",
       "\t<tr><th scope=row>4</th><td>1</td><td>2.103998</td><td>-1.949595</td></tr>\n",
       "\t<tr><th scope=row>5</th><td>1</td><td>4.102098</td><td>-6.745035</td></tr>\n",
       "\t<tr><th scope=row>6</th><td>0</td><td>2.628093</td><td>-6.307423</td></tr>\n",
       "</tbody>\n",
       "</table>\n"
      ],
      "text/latex": [
       "A data.frame: 6 × 3\n",
       "\\begin{tabular}{r|lll}\n",
       "  & D & Y & X1\\\\\n",
       "  & <dbl> & <dbl> & <dbl>\\\\\n",
       "\\hline\n",
       "\t1 & 0 & 1.553940 & -3.729457\\\\\n",
       "\t2 & 0 & 1.993194 & -4.783665\\\\\n",
       "\t3 & 0 & 3.983957 & -9.561497\\\\\n",
       "\t4 & 1 & 2.103998 & -1.949595\\\\\n",
       "\t5 & 1 & 4.102098 & -6.745035\\\\\n",
       "\t6 & 0 & 2.628093 & -6.307423\\\\\n",
       "\\end{tabular}\n"
      ],
      "text/markdown": [
       "\n",
       "A data.frame: 6 × 3\n",
       "\n",
       "| <!--/--> | D &lt;dbl&gt; | Y &lt;dbl&gt; | X1 &lt;dbl&gt; |\n",
       "|---|---|---|---|\n",
       "| 1 | 0 | 1.553940 | -3.729457 |\n",
       "| 2 | 0 | 1.993194 | -4.783665 |\n",
       "| 3 | 0 | 3.983957 | -9.561497 |\n",
       "| 4 | 1 | 2.103998 | -1.949595 |\n",
       "| 5 | 1 | 4.102098 | -6.745035 |\n",
       "| 6 | 0 | 2.628093 | -6.307423 |\n",
       "\n"
      ],
      "text/plain": [
       "  D Y        X1       \n",
       "1 0 1.553940 -3.729457\n",
       "2 0 1.993194 -4.783665\n",
       "3 0 3.983957 -9.561497\n",
       "4 1 2.103998 -1.949595\n",
       "5 1 4.102098 -6.745035\n",
       "6 0 2.628093 -6.307423"
      ]
     },
     "metadata": {},
     "output_type": "display_data"
    }
   ],
   "source": [
    "D = sample(c(0,1), 500, replace = TRUE, prob = c(.7,.3))\n",
    "Y = 0.5*D + rnorm(500, mean = 2)\n",
    "X1 = 3.1*D - 2.4*Y\n",
    "df = data.frame(D, Y, X1)\n",
    "head(df)"
   ]
  },
  {
   "attachments": {},
   "cell_type": "markdown",
   "metadata": {},
   "source": [
    "**1.1. Which model is giving a less biased treatment effect and why?**"
   ]
  },
  {
   "attachments": {},
   "cell_type": "markdown",
   "metadata": {},
   "source": [
    "Looking at the data-generating process above, we see that the variable D is a binary variable with values of either 0 or 1. The draw is based on probability with 0 having a probability of 0.7 and 1, 0.3. 500 such samples are generated. D is the treatment variable in the model and a treatment indicator.  \n",
    "Y is the outcome variable and is generated based on the following equation: $Y = 0.5*D + N(µ = 2)$. This means that theoretically the treatment effect is 0.5 and then we add a random noise to it which is based on random samples from the normal distribution with a mean of 2.  \n",
    "X1 is generated using both values of D and Y is thus, a common effect of the two other variables. The equation used is: $X1 = 3.1*D + 2.4*Y$. No random noise is added to this part of the equation."
   ]
  },
  {
   "cell_type": "code",
   "execution_count": 6,
   "metadata": {
    "vscode": {
     "languageId": "r"
    }
   },
   "outputs": [
    {
     "data": {
      "text/html": [
       "<table class=\"dataframe\">\n",
       "<caption>A matrix: 2 × 4 of type dbl</caption>\n",
       "<thead>\n",
       "\t<tr><th></th><th scope=col>Estimate</th><th scope=col>Std. Error</th><th scope=col>t value</th><th scope=col>Pr(&gt;|t|)</th></tr>\n",
       "</thead>\n",
       "<tbody>\n",
       "\t<tr><th scope=row>(Intercept)</th><td>1.9936405</td><td>0.05379355</td><td>37.060959</td><td>2.844216e-145</td></tr>\n",
       "\t<tr><th scope=row>D</th><td>0.5322162</td><td>0.09989211</td><td> 5.327911</td><td> 1.507679e-07</td></tr>\n",
       "</tbody>\n",
       "</table>\n"
      ],
      "text/latex": [
       "A matrix: 2 × 4 of type dbl\n",
       "\\begin{tabular}{r|llll}\n",
       "  & Estimate & Std. Error & t value & Pr(>\\textbar{}t\\textbar{})\\\\\n",
       "\\hline\n",
       "\t(Intercept) & 1.9936405 & 0.05379355 & 37.060959 & 2.844216e-145\\\\\n",
       "\tD & 0.5322162 & 0.09989211 &  5.327911 &  1.507679e-07\\\\\n",
       "\\end{tabular}\n"
      ],
      "text/markdown": [
       "\n",
       "A matrix: 2 × 4 of type dbl\n",
       "\n",
       "| <!--/--> | Estimate | Std. Error | t value | Pr(&gt;|t|) |\n",
       "|---|---|---|---|---|\n",
       "| (Intercept) | 1.9936405 | 0.05379355 | 37.060959 | 2.844216e-145 |\n",
       "| D | 0.5322162 | 0.09989211 |  5.327911 |  1.507679e-07 |\n",
       "\n"
      ],
      "text/plain": [
       "            Estimate  Std. Error t value   Pr(>|t|)     \n",
       "(Intercept) 1.9936405 0.05379355 37.060959 2.844216e-145\n",
       "D           0.5322162 0.09989211  5.327911  1.507679e-07"
      ]
     },
     "metadata": {},
     "output_type": "display_data"
    }
   ],
   "source": [
    "model1 = lm(Y ~ D, data = df)\n",
    "summary(model1)$coefficients"
   ]
  },
  {
   "cell_type": "code",
   "execution_count": 7,
   "metadata": {
    "vscode": {
     "languageId": "r"
    }
   },
   "outputs": [
    {
     "data": {
      "text/html": [
       "<table class=\"dataframe\">\n",
       "<caption>A matrix: 3 × 4 of type dbl</caption>\n",
       "<thead>\n",
       "\t<tr><th></th><th scope=col>Estimate</th><th scope=col>Std. Error</th><th scope=col>t value</th><th scope=col>Pr(&gt;|t|)</th></tr>\n",
       "</thead>\n",
       "<tbody>\n",
       "\t<tr><th scope=row>(Intercept)</th><td>-3.415967e-15</td><td>3.274668e-16</td><td>-1.043149e+01</td><td>3.592268e-23</td></tr>\n",
       "\t<tr><th scope=row>D</th><td> 1.291667e+00</td><td>3.313839e-16</td><td> 3.897796e+15</td><td>0.000000e+00</td></tr>\n",
       "\t<tr><th scope=row>X1</th><td>-4.166667e-01</td><td>5.863126e-17</td><td>-7.106562e+15</td><td>0.000000e+00</td></tr>\n",
       "</tbody>\n",
       "</table>\n"
      ],
      "text/latex": [
       "A matrix: 3 × 4 of type dbl\n",
       "\\begin{tabular}{r|llll}\n",
       "  & Estimate & Std. Error & t value & Pr(>\\textbar{}t\\textbar{})\\\\\n",
       "\\hline\n",
       "\t(Intercept) & -3.415967e-15 & 3.274668e-16 & -1.043149e+01 & 3.592268e-23\\\\\n",
       "\tD &  1.291667e+00 & 3.313839e-16 &  3.897796e+15 & 0.000000e+00\\\\\n",
       "\tX1 & -4.166667e-01 & 5.863126e-17 & -7.106562e+15 & 0.000000e+00\\\\\n",
       "\\end{tabular}\n"
      ],
      "text/markdown": [
       "\n",
       "A matrix: 3 × 4 of type dbl\n",
       "\n",
       "| <!--/--> | Estimate | Std. Error | t value | Pr(&gt;|t|) |\n",
       "|---|---|---|---|---|\n",
       "| (Intercept) | -3.415967e-15 | 3.274668e-16 | -1.043149e+01 | 3.592268e-23 |\n",
       "| D |  1.291667e+00 | 3.313839e-16 |  3.897796e+15 | 0.000000e+00 |\n",
       "| X1 | -4.166667e-01 | 5.863126e-17 | -7.106562e+15 | 0.000000e+00 |\n",
       "\n"
      ],
      "text/plain": [
       "            Estimate      Std. Error   t value       Pr(>|t|)    \n",
       "(Intercept) -3.415967e-15 3.274668e-16 -1.043149e+01 3.592268e-23\n",
       "D            1.291667e+00 3.313839e-16  3.897796e+15 0.000000e+00\n",
       "X1          -4.166667e-01 5.863126e-17 -7.106562e+15 0.000000e+00"
      ]
     },
     "metadata": {},
     "output_type": "display_data"
    }
   ],
   "source": [
    "model2 = lm(Y ~ D + X1, data = df)\n",
    "summary(model2)$coefficients"
   ]
  },
  {
   "attachments": {},
   "cell_type": "markdown",
   "metadata": {},
   "source": [
    "To answer this question, other than the information above, we can also use a Directed Acyclic Graph (DAG) which allows visualization of the paths between the variables. DAGs allow us to identify backdoor paths, direct paths, and collider paths allowing us to realize which variables we need to control for. DAGs have limitations when there are unknown confounders as they can give a false sense of confidence about information that we don't actually have making us beleive that we are controlling for all covariates but gaps in knowledge such as unknown confounders or wrong pathway assumptions can lead to biased results. However, in this case, perfect knowledge of the DGP allows us to use DAGs to identify the correct variables to control for."
   ]
  },
  {
   "cell_type": "code",
   "execution_count": 8,
   "metadata": {
    "vscode": {
     "languageId": "r"
    }
   },
   "outputs": [
    {
     "name": "stderr",
     "output_type": "stream",
     "text": [
      "Plot coordinates for graph not supplied! Generating coordinates, see ?coordinates for how to set your own.\n",
      "\n"
     ]
    },
    {
     "data": {
      "image/png": "[encoded data removed]",
      "text/plain": [
       "plot without title"
      ]
     },
     "metadata": {
      "image/png": {
       "height": 420,
       "width": 420
      }
     },
     "output_type": "display_data"
    }
   ],
   "source": [
    "# make a dag\n",
    "dag = dagitty(\"dag {\n",
    "    D -> Y\n",
    "    Y -> X1\n",
    "    D -> X1\n",
    "}\")\n",
    "# set coordinates\n",
    "coordinates(dag) = list(Y = c(1,0), D = c(0,0), X1 = c(1,1))\n",
    "# plot the dag\n",
    "plot(dag)"
   ]
  },
  {
   "attachments": {},
   "cell_type": "markdown",
   "metadata": {},
   "source": [
    "Looking at the DAG above, we can see that X1 is a collider i.e. it is affected by both D & Y. Therefore, it is a common effect of those variables. If we include a collider in a regression, we can induce bias by conditioning on the common effect of the collider which in turn creates a spurious association between the variables that are not causally related.  \n",
    "Controlling for a collider leads to incorrect inference and invalid conclusions abot the causal effects. This bias comes from the artificial association that we created between these variables that can distort the model. Based on this, model 1 is giving a less biased treatment effect.  \n",
    "Running both the regressions above, we see that the treatment effect is 0.5895 in model 1 with a standard error of 0.1003 while in model 2, the treatment effect is 1.2917 with negligibe standard error. This shows that model 1 is giving a less biased treatment effect because we know from the data-generating process that $Y = 0.5*D + noise$  \n",
    "Based on the discussion above, we can conclude that model 1 is giving a less biased treatment effect."
   ]
  },
  {
   "attachments": {},
   "cell_type": "markdown",
   "metadata": {},
   "source": [
    "### QUESTION 2: Interpreting regression results"
   ]
  },
  {
   "attachments": {},
   "cell_type": "markdown",
   "metadata": {},
   "source": [
    "**2.1:** The number is the coefficient for the effect of having a same-race teacher on academic achievement. It represents the average difference in academic achievement between students who have a same-race teacher and those who do not, all other things being equal.  \n",
    "Specifically, since we have normalized test scores that are being compared, the effect represents a change in standard deviations in academic achievement. This means that that on average, students with same-race teachers perform 0.084 standard deviations better in academic achievement than those who do not. It is statistically significant as well since the standard errors are much smaller than the coefficient i.e. the estimate of coefficient is much more precise and has less random error.\n",
    "The effect size is quite small and despite being statistically significant, is might not be practically significant depending on the test scores.\n",
    "*Example:* Imagine a standardized test where the average score is 100 and the standard deviation is 15. The difference of 0.084 standard deviations translates to a difference of 1.26 points (0.084 * 15) on average between studetns with the same-race teacher and those who do not. This is a very small difference and might not be practically significant."
   ]
  },
  {
   "attachments": {},
   "cell_type": "markdown",
   "metadata": {},
   "source": [
    "**2.2:** The interaction term here investigates whether the effect of having the same-race teacher on academic acheivement varies depending on class size. Including it in the regression allows it to estimate separate treatment effects for different values of class size.  \n",
    "This can be important for several reasons e.g. the effect of having the same-race teacher might potentially be stronger in larger classes where teachers have less time to spend with each student. Alternatively, it could be the opposite as well since large class sizes could mean a reduction in student-teacher interaction due to lower opportunities. This provides a more nuanced understanding of the relationship between teacher-student racial differences and academic achievement.  \n",
    "In the paper, the p-value column is included that tests the null hypothesis that tests whether the interaction term and the coefficient of the treatment sum to zero. Based on the text, there is no statistically detectable difference between various class sizes."
   ]
  },
  {
   "attachments": {},
   "cell_type": "markdown",
   "metadata": {},
   "source": [
    "**2.3:** The numbers in the parenthesis are the robust standard errors of the coefficients. They represent the precision of the estimates of the coefficients. The smaller the standard error, the more precise the estimate of the coefficient. Robust standard errors are used to adjust for potential violations of the assumptions of the regression model. Specifically, they handle issues realted to heteroscedasticity, autocorrelation, and non-normality.  \n",
    "Heteroscedasticity is when the variance of the error term is not constant. This can be caused by outliers or other factors. Autocorrelation is when the error terms are correlated with each other. This can be caused by time-series data or other factors. Non-normality is when the error terms are not normally distributed. This can be caused by outliers or other factors. Robust standard errors adjust for this by using a more robust estimator of the variance.  \n",
    "The p-value column tests the null hypothesis that the sum of the coefficient and the interaction term is zero. This is the null hypothesis that the treatment effect is the same for all values of class size.  \n",
    "The robust standard errors are associated with the coefficients of the various variables while the p-value column is the p-value for the joint hypothesis that the coefficient and the interaction term sum to zero. It is related to the F-statistic. It informs us about the statistical significance of the overall model that contains the interaction term."
   ]
  },
  {
   "attachments": {},
   "cell_type": "markdown",
   "metadata": {},
   "source": [
    "**2.4:** The null hypothesis is that the sum of the interaction term and the coefficient of the treatment is zero. This is the null hypothesis that the treatment effect is the same for all values of class size. The alternative hyothesis is that the sum is not zero i.e. the treatment effect is not the same for all values of class size.  \n",
    "Since the value of 0.001 is smaller than the conventional significance level of 0.05, we can reject the null hypothesis that the treatment effect is the same for all values of class size."
   ]
  },
  {
   "attachments": {},
   "cell_type": "markdown",
   "metadata": {},
   "source": [
    "### QUESTION 3: Regressions with binary outcomes"
   ]
  },
  {
   "cell_type": "code",
   "execution_count": 9,
   "metadata": {
    "vscode": {
     "languageId": "r"
    }
   },
   "outputs": [
    {
     "name": "stderr",
     "output_type": "stream",
     "text": [
      "\u001b[1mRows: \u001b[22m\u001b[34m1470\u001b[39m \u001b[1mColumns: \u001b[22m\u001b[34m35\u001b[39m\n",
      "\u001b[36m--\u001b[39m \u001b[1mColumn specification\u001b[22m \u001b[36m--------------------------------------------------------\u001b[39m\n",
      "\u001b[1mDelimiter:\u001b[22m \",\"\n",
      "\u001b[31mchr\u001b[39m  (9): Attrition, BusinessTravel, Department, EducationField, Gender, Job...\n",
      "\u001b[32mdbl\u001b[39m (26): Age, DailyRate, DistanceFromHome, Education, EmployeeCount, Employ...\n",
      "\n",
      "\u001b[36mi\u001b[39m Use `spec()` to retrieve the full column specification for this data.\n",
      "\u001b[36mi\u001b[39m Specify the column types or set `show_col_types = FALSE` to quiet this message.\n"
     ]
    }
   ],
   "source": [
    "# reading the data from the link\n",
    "df = read_csv(\"https://raw.githubusercontent.com/ahdvnd/ss154-data/main/WA_Fn-UseC_-HR-Employee-Attrition.csv\")"
   ]
  },
  {
   "cell_type": "code",
   "execution_count": 10,
   "metadata": {
    "vscode": {
     "languageId": "r"
    }
   },
   "outputs": [
    {
     "data": {
      "text/html": [
       "<table class=\"dataframe\">\n",
       "<caption>A tibble: 6 × 37</caption>\n",
       "<thead>\n",
       "\t<tr><th scope=col>Age</th><th scope=col>Attrition</th><th scope=col>BusinessTravel</th><th scope=col>DailyRate</th><th scope=col>Department</th><th scope=col>DistanceFromHome</th><th scope=col>Education</th><th scope=col>EducationField</th><th scope=col>EmployeeCount</th><th scope=col>EmployeeNumber</th><th scope=col>...</th><th scope=col>StockOptionLevel</th><th scope=col>TotalWorkingYears</th><th scope=col>TrainingTimesLastYear</th><th scope=col>WorkLifeBalance</th><th scope=col>YearsAtCompany</th><th scope=col>YearsInCurrentRole</th><th scope=col>YearsSinceLastPromotion</th><th scope=col>YearsWithCurrManager</th><th scope=col>satisfied</th><th scope=col>leave</th></tr>\n",
       "\t<tr><th scope=col>&lt;dbl&gt;</th><th scope=col>&lt;chr&gt;</th><th scope=col>&lt;chr&gt;</th><th scope=col>&lt;dbl&gt;</th><th scope=col>&lt;chr&gt;</th><th scope=col>&lt;dbl&gt;</th><th scope=col>&lt;dbl&gt;</th><th scope=col>&lt;chr&gt;</th><th scope=col>&lt;dbl&gt;</th><th scope=col>&lt;dbl&gt;</th><th scope=col>...</th><th scope=col>&lt;dbl&gt;</th><th scope=col>&lt;dbl&gt;</th><th scope=col>&lt;dbl&gt;</th><th scope=col>&lt;dbl&gt;</th><th scope=col>&lt;dbl&gt;</th><th scope=col>&lt;dbl&gt;</th><th scope=col>&lt;dbl&gt;</th><th scope=col>&lt;dbl&gt;</th><th scope=col>&lt;dbl&gt;</th><th scope=col>&lt;dbl&gt;</th></tr>\n",
       "</thead>\n",
       "<tbody>\n",
       "\t<tr><td>41</td><td>Yes</td><td>Travel_Rarely    </td><td>1102</td><td>Sales                 </td><td>1</td><td>2</td><td>Life Sciences</td><td>1</td><td>1</td><td>...</td><td>0</td><td> 8</td><td>0</td><td>1</td><td> 6</td><td>4</td><td>0</td><td>5</td><td>1</td><td>1</td></tr>\n",
       "\t<tr><td>49</td><td>No </td><td>Travel_Frequently</td><td> 279</td><td>Research &amp; Development</td><td>8</td><td>1</td><td>Life Sciences</td><td>1</td><td>2</td><td>...</td><td>1</td><td>10</td><td>3</td><td>3</td><td>10</td><td>7</td><td>1</td><td>7</td><td>0</td><td>0</td></tr>\n",
       "\t<tr><td>37</td><td>Yes</td><td><span style=white-space:pre-wrap>Travel_Rarely    </span></td><td>1373</td><td>Research &amp; Development</td><td>2</td><td>2</td><td><span style=white-space:pre-wrap>Other        </span></td><td>1</td><td>4</td><td>...</td><td>0</td><td> 7</td><td>3</td><td>3</td><td> 0</td><td>0</td><td>0</td><td>0</td><td>1</td><td>1</td></tr>\n",
       "\t<tr><td>33</td><td>No </td><td>Travel_Frequently</td><td>1392</td><td>Research &amp; Development</td><td>3</td><td>4</td><td>Life Sciences</td><td>1</td><td>5</td><td>...</td><td>0</td><td> 8</td><td>3</td><td>3</td><td> 8</td><td>7</td><td>3</td><td>0</td><td>1</td><td>0</td></tr>\n",
       "\t<tr><td>27</td><td>No </td><td><span style=white-space:pre-wrap>Travel_Rarely    </span></td><td> 591</td><td>Research &amp; Development</td><td>2</td><td>1</td><td><span style=white-space:pre-wrap>Medical      </span></td><td>1</td><td>7</td><td>...</td><td>1</td><td> 6</td><td>3</td><td>3</td><td> 2</td><td>2</td><td>2</td><td>2</td><td>0</td><td>0</td></tr>\n",
       "\t<tr><td>32</td><td>No </td><td>Travel_Frequently</td><td>1005</td><td>Research &amp; Development</td><td>2</td><td>2</td><td>Life Sciences</td><td>1</td><td>8</td><td>...</td><td>0</td><td> 8</td><td>2</td><td>2</td><td> 7</td><td>7</td><td>3</td><td>6</td><td>1</td><td>0</td></tr>\n",
       "</tbody>\n",
       "</table>\n"
      ],
      "text/latex": [
       "A tibble: 6 × 37\n",
       "\\begin{tabular}{lllllllllllllllllllll}\n",
       " Age & Attrition & BusinessTravel & DailyRate & Department & DistanceFromHome & Education & EducationField & EmployeeCount & EmployeeNumber & ... & StockOptionLevel & TotalWorkingYears & TrainingTimesLastYear & WorkLifeBalance & YearsAtCompany & YearsInCurrentRole & YearsSinceLastPromotion & YearsWithCurrManager & satisfied & leave\\\\\n",
       " <dbl> & <chr> & <chr> & <dbl> & <chr> & <dbl> & <dbl> & <chr> & <dbl> & <dbl> & ... & <dbl> & <dbl> & <dbl> & <dbl> & <dbl> & <dbl> & <dbl> & <dbl> & <dbl> & <dbl>\\\\\n",
       "\\hline\n",
       "\t 41 & Yes & Travel\\_Rarely     & 1102 & Sales                  & 1 & 2 & Life Sciences & 1 & 1 & ... & 0 &  8 & 0 & 1 &  6 & 4 & 0 & 5 & 1 & 1\\\\\n",
       "\t 49 & No  & Travel\\_Frequently &  279 & Research \\& Development & 8 & 1 & Life Sciences & 1 & 2 & ... & 1 & 10 & 3 & 3 & 10 & 7 & 1 & 7 & 0 & 0\\\\\n",
       "\t 37 & Yes & Travel\\_Rarely     & 1373 & Research \\& Development & 2 & 2 & Other         & 1 & 4 & ... & 0 &  7 & 3 & 3 &  0 & 0 & 0 & 0 & 1 & 1\\\\\n",
       "\t 33 & No  & Travel\\_Frequently & 1392 & Research \\& Development & 3 & 4 & Life Sciences & 1 & 5 & ... & 0 &  8 & 3 & 3 &  8 & 7 & 3 & 0 & 1 & 0\\\\\n",
       "\t 27 & No  & Travel\\_Rarely     &  591 & Research \\& Development & 2 & 1 & Medical       & 1 & 7 & ... & 1 &  6 & 3 & 3 &  2 & 2 & 2 & 2 & 0 & 0\\\\\n",
       "\t 32 & No  & Travel\\_Frequently & 1005 & Research \\& Development & 2 & 2 & Life Sciences & 1 & 8 & ... & 0 &  8 & 2 & 2 &  7 & 7 & 3 & 6 & 1 & 0\\\\\n",
       "\\end{tabular}\n"
      ],
      "text/markdown": [
       "\n",
       "A tibble: 6 × 37\n",
       "\n",
       "| Age &lt;dbl&gt; | Attrition &lt;chr&gt; | BusinessTravel &lt;chr&gt; | DailyRate &lt;dbl&gt; | Department &lt;chr&gt; | DistanceFromHome &lt;dbl&gt; | Education &lt;dbl&gt; | EducationField &lt;chr&gt; | EmployeeCount &lt;dbl&gt; | EmployeeNumber &lt;dbl&gt; | ... ... | StockOptionLevel &lt;dbl&gt; | TotalWorkingYears &lt;dbl&gt; | TrainingTimesLastYear &lt;dbl&gt; | WorkLifeBalance &lt;dbl&gt; | YearsAtCompany &lt;dbl&gt; | YearsInCurrentRole &lt;dbl&gt; | YearsSinceLastPromotion &lt;dbl&gt; | YearsWithCurrManager &lt;dbl&gt; | satisfied &lt;dbl&gt; | leave &lt;dbl&gt; |\n",
       "|---|---|---|---|---|---|---|---|---|---|---|---|---|---|---|---|---|---|---|---|---|\n",
       "| 41 | Yes | Travel_Rarely     | 1102 | Sales                  | 1 | 2 | Life Sciences | 1 | 1 | ... | 0 |  8 | 0 | 1 |  6 | 4 | 0 | 5 | 1 | 1 |\n",
       "| 49 | No  | Travel_Frequently |  279 | Research &amp; Development | 8 | 1 | Life Sciences | 1 | 2 | ... | 1 | 10 | 3 | 3 | 10 | 7 | 1 | 7 | 0 | 0 |\n",
       "| 37 | Yes | Travel_Rarely     | 1373 | Research &amp; Development | 2 | 2 | Other         | 1 | 4 | ... | 0 |  7 | 3 | 3 |  0 | 0 | 0 | 0 | 1 | 1 |\n",
       "| 33 | No  | Travel_Frequently | 1392 | Research &amp; Development | 3 | 4 | Life Sciences | 1 | 5 | ... | 0 |  8 | 3 | 3 |  8 | 7 | 3 | 0 | 1 | 0 |\n",
       "| 27 | No  | Travel_Rarely     |  591 | Research &amp; Development | 2 | 1 | Medical       | 1 | 7 | ... | 1 |  6 | 3 | 3 |  2 | 2 | 2 | 2 | 0 | 0 |\n",
       "| 32 | No  | Travel_Frequently | 1005 | Research &amp; Development | 2 | 2 | Life Sciences | 1 | 8 | ... | 0 |  8 | 2 | 2 |  7 | 7 | 3 | 6 | 1 | 0 |\n",
       "\n"
      ],
      "text/plain": [
       "  Age Attrition BusinessTravel    DailyRate Department            \n",
       "1 41  Yes       Travel_Rarely     1102      Sales                 \n",
       "2 49  No        Travel_Frequently  279      Research & Development\n",
       "3 37  Yes       Travel_Rarely     1373      Research & Development\n",
       "4 33  No        Travel_Frequently 1392      Research & Development\n",
       "5 27  No        Travel_Rarely      591      Research & Development\n",
       "6 32  No        Travel_Frequently 1005      Research & Development\n",
       "  DistanceFromHome Education EducationField EmployeeCount EmployeeNumber ...\n",
       "1 1                2         Life Sciences  1             1              ...\n",
       "2 8                1         Life Sciences  1             2              ...\n",
       "3 2                2         Other          1             4              ...\n",
       "4 3                4         Life Sciences  1             5              ...\n",
       "5 2                1         Medical        1             7              ...\n",
       "6 2                2         Life Sciences  1             8              ...\n",
       "  StockOptionLevel TotalWorkingYears TrainingTimesLastYear WorkLifeBalance\n",
       "1 0                 8                0                     1              \n",
       "2 1                10                3                     3              \n",
       "3 0                 7                3                     3              \n",
       "4 0                 8                3                     3              \n",
       "5 1                 6                3                     3              \n",
       "6 0                 8                2                     2              \n",
       "  YearsAtCompany YearsInCurrentRole YearsSinceLastPromotion\n",
       "1  6             4                  0                      \n",
       "2 10             7                  1                      \n",
       "3  0             0                  0                      \n",
       "4  8             7                  3                      \n",
       "5  2             2                  2                      \n",
       "6  7             7                  3                      \n",
       "  YearsWithCurrManager satisfied leave\n",
       "1 5                    1         1    \n",
       "2 7                    0         0    \n",
       "3 0                    1         1    \n",
       "4 0                    1         0    \n",
       "5 2                    0         0    \n",
       "6 6                    1         0    "
      ]
     },
     "metadata": {},
     "output_type": "display_data"
    }
   ],
   "source": [
    "# Define a variable called satisfied that equals 0 if the employee job satisfaction is 1 or 2 and is 1 if the employee job satisfaction is 3 or 4.\n",
    "df <- df %>% \n",
    "    mutate(satisfied = ifelse(JobSatisfaction %in% c(1,2), 0, 1))\n",
    "# Define a variable called leave that equals 1 if the employee has left the company and 0 if the employee is still working.\n",
    "# This is important in order to run regression later on.\n",
    "df <- df %>%\n",
    "    mutate(leave = ifelse(Attrition == \"Yes\", 1, 0))\n",
    "head(df)"
   ]
  },
  {
   "attachments": {},
   "cell_type": "markdown",
   "metadata": {},
   "source": [
    "**3.1:**"
   ]
  },
  {
   "cell_type": "code",
   "execution_count": 11,
   "metadata": {
    "vscode": {
     "languageId": "r"
    }
   },
   "outputs": [
    {
     "data": {
      "text/html": [
       "<table class=\"dataframe\">\n",
       "<caption>A tibble: 2 × 2</caption>\n",
       "<thead>\n",
       "\t<tr><th scope=col>satisfied</th><th scope=col>percentage</th></tr>\n",
       "\t<tr><th scope=col>&lt;dbl&gt;</th><th scope=col>&lt;dbl&gt;</th></tr>\n",
       "</thead>\n",
       "<tbody>\n",
       "\t<tr><td>0</td><td>19.68366</td></tr>\n",
       "\t<tr><td>1</td><td>13.87347</td></tr>\n",
       "</tbody>\n",
       "</table>\n"
      ],
      "text/latex": [
       "A tibble: 2 × 2\n",
       "\\begin{tabular}{ll}\n",
       " satisfied & percentage\\\\\n",
       " <dbl> & <dbl>\\\\\n",
       "\\hline\n",
       "\t 0 & 19.68366\\\\\n",
       "\t 1 & 13.87347\\\\\n",
       "\\end{tabular}\n"
      ],
      "text/markdown": [
       "\n",
       "A tibble: 2 × 2\n",
       "\n",
       "| satisfied &lt;dbl&gt; | percentage &lt;dbl&gt; |\n",
       "|---|---|\n",
       "| 0 | 19.68366 |\n",
       "| 1 | 13.87347 |\n",
       "\n"
      ],
      "text/plain": [
       "  satisfied percentage\n",
       "1 0         19.68366  \n",
       "2 1         13.87347  "
      ]
     },
     "metadata": {},
     "output_type": "display_data"
    }
   ],
   "source": [
    "# calculate percentage of employees who leave the company for each level of satisfaction\n",
    "df %>% \n",
    "  group_by(satisfied) %>% \n",
    "  summarise(percentage = mean(Attrition == \"Yes\") * 100)"
   ]
  },
  {
   "attachments": {},
   "cell_type": "markdown",
   "metadata": {},
   "source": [
    "From the table above, we can interpret that 19.68% of unsatisfied employees left the company and 13.87% of satisfied employees left the company. This means that the difference in the proportion of employees who left the company is 5.81%."
   ]
  },
  {
   "attachments": {},
   "cell_type": "markdown",
   "metadata": {},
   "source": [
    "**3.2:**"
   ]
  },
  {
   "cell_type": "code",
   "execution_count": 12,
   "metadata": {
    "vscode": {
     "languageId": "r"
    }
   },
   "outputs": [
    {
     "name": "stderr",
     "output_type": "stream",
     "text": [
      "Plot coordinates for graph not supplied! Generating coordinates, see ?coordinates for how to set your own.\n",
      "\n"
     ]
    },
    {
     "data": {
      "image/png": "[encoded data removed]",
      "text/plain": [
       "plot without title"
      ]
     },
     "metadata": {
      "image/png": {
       "height": 420,
       "width": 420
      }
     },
     "output_type": "display_data"
    }
   ],
   "source": [
    "# make a dag\n",
    "dag = dagitty(\"dag {\n",
    "    WLBalance -> Attrition\n",
    "    JobSatisfaction -> Attrition\n",
    "    JobInvolvement -> Attrition\n",
    "    JobLevel -> Attrition\n",
    "    EnvironmentSatisfaction -> Attrition\n",
    "    YSLPromotion -> Attrition\n",
    "    DFH -> Attrition\n",
    "    Overtime -> Attrition\n",
    "    PSHike -> Attrition\n",
    "    PerformanceRating -> Attrition\n",
    "    DailyRate -> Attrition\n",
    "    JobInvolvement -> WLBalance\n",
    "    JobLevel -> WLBalance\n",
    "    EnvironmentSatisfaction -> WLBalance\n",
    "    YSLPromotion -> WLBalance\n",
    "    JobSatisfaction -> WLBalance\n",
    "    Overtime -> WLBalance\n",
    "    PerformanceRating -> WLBalance\n",
    "    DailyRate -> WLBalance\n",
    "    BusinessTravel -> WLBalance\n",
    "    MaritalStatus -> WLBalance\n",
    "    HourlyRate -> DailyRate\n",
    "    MonthlyIncome -> DailyRate\n",
    "    PSHike -> DailyRate\n",
    "    Employee Engagement -> WLBalance\n",
    "    Employee Engagement -> Attrition\n",
    "    Benefits -> Attrition\n",
    "    Benefits -> WLBalance\n",
    "    Diversity -> Attrition\n",
    "    Diversity -> WLBalance\n",
    "}\")\n",
    "# plot the dag\n",
    "plot(dag)"
   ]
  },
  {
   "attachments": {},
   "cell_type": "markdown",
   "metadata": {},
   "source": [
    "While the code of the DAG above can be found, it is hard to read and understand the display. A better option might be importing a PNG from Daggity itself."
   ]
  },
  {
   "cell_type": "code",
   "execution_count": 13,
   "metadata": {
    "vscode": {
     "languageId": "r"
    }
   },
   "outputs": [
    {
     "data": {
      "image/png": "[encoded data removed]"
     },
     "metadata": {},
     "output_type": "display_data"
    }
   ],
   "source": [
    "image_file <- \"daggity-model.png\"\n",
    "image <- readBin(image_file, \"raw\", file.size(image_file))\n",
    "display_png(image)"
   ]
  },
  {
   "attachments": {},
   "cell_type": "markdown",
   "metadata": {},
   "source": [
    "**Confounding variables:** Daily Rate, Environment Satisfaction, Job Involvement, Job Level, Job Satisfaction, Overtime, Performance Rating, Years Since Last Promotion.  \n",
    "**Backdoor paths:**  \n",
    "- Work-Life balance $\\leftarrow$ Daily Rate $\\rightarrow$ Attrition\n",
    "- Work-Life balance $\\leftarrow$ Environment Satisfaction $\\rightarrow$ Attrition\n",
    "- Work-Life balance $\\leftarrow$ Job Involvement $\\rightarrow$ Attrition\n",
    "- Work-Life balance $\\leftarrow$ Job Level $\\rightarrow$ Attrition\n",
    "- Work-Life balance $\\leftarrow$ Job Satisfaction $\\rightarrow$ Attrition\n",
    "- Work-Life balance $\\leftarrow$ Overtime $\\rightarrow$ Attrition\n",
    "- Work-Life balance $\\leftarrow$ Performance Rating $\\rightarrow$ Attrition\n",
    "- Work-Life balance $\\leftarrow$ Years Since Last Promotion $\\rightarrow$ Attrition\n",
    "- Work-Life balance $\\leftarrow$ Daily Rate $\\leftarrow$ Percent Salary Hike $\\rightarrow$ Attrition\n",
    "\n",
    "We don't need to control for Percent Salary Hike because controlling for Daily Rate already blocks that backdoor path."
   ]
  },
  {
   "attachments": {},
   "cell_type": "markdown",
   "metadata": {},
   "source": [
    "**3.3:**"
   ]
  },
  {
   "attachments": {},
   "cell_type": "markdown",
   "metadata": {},
   "source": [
    "There are three variables that need to be controlled for that are added to the DAG. These are Diversity, Employee Engagement, & Benefits. All three of these are common causes of Attrition and Work-Life Balance. Diversity is a variable that contains information about the diversity at the company and can be a big factor in employee attrition. Employee Engagement is a variable that contains information about the engagement of the employees with each other. These relationships can be key to both Work-life balance and Attrition. Benefits contains information about the benefits that the company provides to its employees. This can be a big factor in employee attrition and work-life balance as more benefits usually lead to better work-life balance and less attrition.  \n",
    "The backdoor paths are as follows:\n",
    "- Work-Life balance $\\leftarrow$ Diversity $\\rightarrow$ Attrition\n",
    "- Work-Life balance $\\leftarrow$ Employee Engagement $\\rightarrow$ Attrition\n",
    "- Work-Life balance $\\leftarrow$ Benefits $\\rightarrow$ Attrition"
   ]
  },
  {
   "attachments": {},
   "cell_type": "markdown",
   "metadata": {},
   "source": [
    "**3.4:**"
   ]
  },
  {
   "cell_type": "code",
   "execution_count": 14,
   "metadata": {
    "vscode": {
     "languageId": "r"
    }
   },
   "outputs": [],
   "source": [
    "# omitting missing values\n",
    "df <- na.omit(df)"
   ]
  },
  {
   "cell_type": "code",
   "execution_count": 15,
   "metadata": {
    "vscode": {
     "languageId": "r"
    }
   },
   "outputs": [
    {
     "data": {
      "text/plain": [
       "\n",
       "Call:\n",
       "lm(formula = leave ~ as.factor(WorkLifeBalance) + satisfied + \n",
       "    DailyRate + EnvironmentSatisfaction + JobInvolvement + JobLevel + \n",
       "    JobSatisfaction + OverTime + PerformanceRating + YearsSinceLastPromotion, \n",
       "    data = df)\n",
       "\n",
       "Residuals:\n",
       "     Min       1Q   Median       3Q      Max \n",
       "-0.57211 -0.19829 -0.09852  0.01516  1.08285 \n",
       "\n",
       "Coefficients:\n",
       "                              Estimate Std. Error t value Pr(>|t|)    \n",
       "(Intercept)                  8.440e-01  1.039e-01   8.123 9.63e-16 ***\n",
       "as.factor(WorkLifeBalance)2 -1.327e-01  4.239e-02  -3.130  0.00178 ** \n",
       "as.factor(WorkLifeBalance)3 -1.591e-01  3.984e-02  -3.994 6.82e-05 ***\n",
       "as.factor(WorkLifeBalance)4 -1.123e-01  4.712e-02  -2.384  0.01727 *  \n",
       "satisfied                    5.434e-02  4.037e-02   1.346  0.17852    \n",
       "DailyRate                   -4.351e-05  2.214e-05  -1.965  0.04961 *  \n",
       "EnvironmentSatisfaction     -4.027e-02  8.175e-03  -4.926 9.34e-07 ***\n",
       "JobInvolvement              -6.867e-02  1.253e-02  -5.482 4.96e-08 ***\n",
       "JobLevel                    -5.925e-02  8.603e-03  -6.887 8.44e-12 ***\n",
       "JobSatisfaction             -5.875e-02  1.782e-02  -3.296  0.00100 ** \n",
       "OverTimeYes                  2.111e-01  1.981e-02  10.657  < 2e-16 ***\n",
       "PerformanceRating           -9.337e-03  2.471e-02  -0.378  0.70559    \n",
       "YearsSinceLastPromotion      3.473e-03  2.957e-03   1.174  0.24039    \n",
       "---\n",
       "Signif. codes:  0 '***' 0.001 '**' 0.01 '*' 0.05 '.' 0.1 ' ' 1\n",
       "\n",
       "Residual standard error: 0.3409 on 1457 degrees of freedom\n",
       "Multiple R-squared:  0.1484,\tAdjusted R-squared:  0.1414 \n",
       "F-statistic: 21.15 on 12 and 1457 DF,  p-value: < 2.2e-16\n"
      ]
     },
     "metadata": {},
     "output_type": "display_data"
    }
   ],
   "source": [
    "linear_probability_model <- lm(leave ~ as.factor(WorkLifeBalance) + satisfied + DailyRate + EnvironmentSatisfaction + JobInvolvement + JobLevel + JobSatisfaction + OverTime + PerformanceRating + YearsSinceLastPromotion, data = df)\n",
    "summary(linear_probability_model)"
   ]
  },
  {
   "attachments": {},
   "cell_type": "markdown",
   "metadata": {},
   "source": [
    "**3.5:**  \n",
    "I have used Work-life balance as a categorical variable in the linear probability model. The reason for this is that it has 4 possible values which allows the model to to see if there are differences in the effect of the treatment across various levels of the treatment. This makes sense because we could see extreme cases of work-life balance where the employee is working 24/7 and has no time for anything else. This could be a very different case from an employee who works 8 hours a day and has a good work-life balance. They would in turn have different effects of work-life balance on their attrition. Compared to these extremes the cases in the middle could be more similar to each other and show lesser effects of work-life balance on attrition. Thus, it can caputre the effect of work-life balance on attrition when the effect is non-linear.  \n",
    "Using categorical variables also means that non-linear relationships between the treatment and the outcome can be captured. This is because the model can estimate separate treatment effects for different values of the treatment."
   ]
  },
  {
   "attachments": {},
   "cell_type": "markdown",
   "metadata": {},
   "source": [
    "**3.6:**  \n",
    "Let's assume that the numbers for Work-life balance represent the following:  \n",
    "- 1: Bad\n",
    "- 2: Average\n",
    "- 3: Good\n",
    "- 4: Excellent\n",
    "\n",
    "The results from the regression use Level 1 as the reference category. This means that the results for the other levels are relative to the reference category. Thus, the results for Level 2 are the difference in the probability of attrition between Level 2 and Level 1. Similarly, the results for Level 3 are the difference in the probability of attrition between Level 3 and Level 1. The results for Level 4 are the difference in the probability of attrition between Level 4 and Level 1.  \n",
    "Using this information, we can interpret the results as follows:  \n",
    "For people with an Average work-life balance (Level 2), the probability of attrition is 0.1327 lower than for people with a bad work-life balance (Level 1). This means that the probability of them leaving the company is 13.27 percentage points lower than for people with a bad work-life balance holding all other variables constant.  \n",
    "For people with an Good work-life balance (Level 3), the probability of attrition is 0.1591 lower than for people with a bad work-life balance (Level 1). This means that the probability of them leaving the company is 15.91 percentage points lower than for people with a bad work-life balance holding all other variables constant.  \n",
    "For people with an Excellent work-life balance (Level 4), the probability of attrition is 0.1123 lower than for people with a bad work-life balance (Level 1). This means that the probability of them leaving the company is 11.23 percentage points lower than for people with a bad work-life balance holding all other variables constant."
   ]
  },
  {
   "attachments": {},
   "cell_type": "markdown",
   "metadata": {},
   "source": [
    "**3.7:**  \n",
    "The summary table above also includes the p-values which test the null hypothesis that the coefficient is zero. This is the null hypothesis that the treatment effect is zero. Thus, by looking at these values, we can see whether the coefficient estimated is by chance or can be trusted. For the purpose of this analysis, I assume a significance level of 0.05 which is standard across many studies.\n",
    "- Level 1: This is the reference level so there is no treatment effect as such associated with this value.\n",
    "- Level 2: The p-value is 0.00178 which is smaller than 0.05, indicating significant treatment effect at 5% level.\n",
    "- Level 3: The p-value is 6.82e-05 which is much smaller than 0.05, indicating a significant treatment effect at 5% level.\n",
    "- Level 4: The p-value is 0.01727 which is smaller than 0.05 as well, indicating a significant treatment effect at 5% level.  \n",
    "\n",
    "Therefore, it can be concluded that the treatment effect is significant for all levels of work-life balance."
   ]
  },
  {
   "attachments": {},
   "cell_type": "markdown",
   "metadata": {},
   "source": [
    "**3.8:**"
   ]
  },
  {
   "cell_type": "code",
   "execution_count": 16,
   "metadata": {
    "vscode": {
     "languageId": "r"
    }
   },
   "outputs": [
    {
     "data": {
      "text/plain": [
       "\n",
       "Call:\n",
       "glm(formula = leave ~ as.factor(WorkLifeBalance) + satisfied + \n",
       "    DailyRate + EnvironmentSatisfaction + JobInvolvement + JobLevel + \n",
       "    JobSatisfaction + OverTime + PerformanceRating + YearsSinceLastPromotion, \n",
       "    family = binomial(link = \"logit\"), data = df)\n",
       "\n",
       "Deviance Residuals: \n",
       "    Min       1Q   Median       3Q      Max  \n",
       "-1.6853  -0.5765  -0.3884  -0.2329   2.8913  \n",
       "\n",
       "Coefficients:\n",
       "                              Estimate Std. Error z value Pr(>|z|)    \n",
       "(Intercept)                  3.9918480  0.9030604   4.420 9.85e-06 ***\n",
       "as.factor(WorkLifeBalance)2 -0.9086447  0.3111153  -2.921  0.00349 ** \n",
       "as.factor(WorkLifeBalance)3 -1.1407003  0.2882835  -3.957 7.59e-05 ***\n",
       "as.factor(WorkLifeBalance)4 -0.7386347  0.3554209  -2.078  0.03769 *  \n",
       "satisfied                    0.5577722  0.3551185   1.571  0.11626    \n",
       "DailyRate                   -0.0003901  0.0001937  -2.014  0.04398 *  \n",
       "EnvironmentSatisfaction     -0.3457354  0.0720185  -4.801 1.58e-06 ***\n",
       "JobInvolvement              -0.5531686  0.1060669  -5.215 1.84e-07 ***\n",
       "JobLevel                    -0.6301132  0.0966044  -6.523 6.91e-11 ***\n",
       "JobSatisfaction             -0.5441586  0.1583519  -3.436  0.00059 ***\n",
       "OverTimeYes                  1.5874273  0.1619743   9.800  < 2e-16 ***\n",
       "PerformanceRating           -0.1309295  0.2192801  -0.597  0.55045    \n",
       "YearsSinceLastPromotion      0.0423752  0.0278050   1.524  0.12751    \n",
       "---\n",
       "Signif. codes:  0 '***' 0.001 '**' 0.01 '*' 0.05 '.' 0.1 ' ' 1\n",
       "\n",
       "(Dispersion parameter for binomial family taken to be 1)\n",
       "\n",
       "    Null deviance: 1298.6  on 1469  degrees of freedom\n",
       "Residual deviance: 1071.3  on 1457  degrees of freedom\n",
       "AIC: 1097.3\n",
       "\n",
       "Number of Fisher Scoring iterations: 5\n"
      ]
     },
     "metadata": {},
     "output_type": "display_data"
    }
   ],
   "source": [
    "logistic_model <- glm(leave ~ as.factor(WorkLifeBalance) + satisfied + DailyRate + EnvironmentSatisfaction + JobInvolvement + JobLevel + JobSatisfaction + OverTime + PerformanceRating + YearsSinceLastPromotion, data = df, family = binomial(link=\"logit\"))\n",
    "summary(logistic_model)"
   ]
  },
  {
   "attachments": {},
   "cell_type": "markdown",
   "metadata": {},
   "source": [
    "Based on the model, the treatment effect for each work level can be estimated as follows:  \n",
    "- Level 1: This is the reference category, so the treatment effect is not estimated for this.\n",
    "- Level 2: The estimated effect is -0.909 with a p-value of 0.00349, indicating employees with Average work-life balance are less likely to leave as compared to those with a bad work-life balance. This is in terms of log-odds. Check below for probability estimates.\n",
    "- Level 3: The estimated effect is -1.141 with a p-value of 7.59e-05, indicating employees with Good work-life balance are less likely to leave as compared to those with a bad work-life balance. This is in terms of log-odds. Check below for probability estimates.\n",
    "- Level 4: The estimated effect is -0.739 with a p-value of 0.03769, indicating employees with Average work-life balance are less likely to leave as compared to those with a bad work-life balance. This is in terms of log-odds. Check below for probability estimates.\n",
    "\n",
    "The marginal effect can be interpreted as the change in probability of leaving with a change in the treatment, holding all other variables constant. The marginal effect for each level can be estimated as follows:\n",
    "- Level 2: $\\frac{exp{-0.909}}{1 + exp(-0.909)} = 0.286$ which means that the probability of attrition for employees with Average work-life balance is 28.6% lower than for employees with a bad work-life balance.\n",
    "- Level 3: $\\frac{exp{-1.141}}{1 + exp(-1.141)} = 0.242$ which means that the probability of attrition for employees with Good work-life balance is 24.2% lower than for employees with a bad work-life balance.\n",
    "- Level 4: $\\frac{exp{-0.739}}{1 + exp(-0.739)} = 0.323$ which means that the probability of attrition for employees with Excellent work-life balance is 32.3% lower than for employees with a bad work-life balance."
   ]
  },
  {
   "attachments": {},
   "cell_type": "markdown",
   "metadata": {},
   "source": [
    "**3.9:**"
   ]
  },
  {
   "cell_type": "code",
   "execution_count": 17,
   "metadata": {
    "vscode": {
     "languageId": "r"
    }
   },
   "outputs": [
    {
     "data": {
      "text/html": [
       "<table class=\"dataframe\">\n",
       "<caption>A summary.margins: 12 × 7</caption>\n",
       "<thead>\n",
       "\t<tr><th></th><th scope=col>factor</th><th scope=col>AME</th><th scope=col>SE</th><th scope=col>z</th><th scope=col>p</th><th scope=col>lower</th><th scope=col>upper</th></tr>\n",
       "\t<tr><th></th><th scope=col>&lt;chr&gt;</th><th scope=col>&lt;dbl&gt;</th><th scope=col>&lt;dbl&gt;</th><th scope=col>&lt;dbl&gt;</th><th scope=col>&lt;dbl&gt;</th><th scope=col>&lt;dbl&gt;</th><th scope=col>&lt;dbl&gt;</th></tr>\n",
       "</thead>\n",
       "<tbody>\n",
       "\t<tr><th scope=row>1</th><td>DailyRate              </td><td>-4.364148e-05</td><td>2.160049e-05</td><td>-2.0203932</td><td>4.334261e-02</td><td>-8.597767e-05</td><td>-1.305302e-06</td></tr>\n",
       "\t<tr><th scope=row>2</th><td>EnvironmentSatisfaction</td><td>-3.867693e-02</td><td>7.894631e-03</td><td>-4.8991433</td><td>9.625544e-07</td><td>-5.415012e-02</td><td>-2.320374e-02</td></tr>\n",
       "\t<tr><th scope=row>3</th><td>JobInvolvement         </td><td>-6.188219e-02</td><td>1.158526e-02</td><td>-5.3414567</td><td>9.220264e-08</td><td>-8.458889e-02</td><td>-3.917549e-02</td></tr>\n",
       "\t<tr><th scope=row>4</th><td>JobLevel               </td><td>-7.048987e-02</td><td>1.048187e-02</td><td>-6.7249331</td><td>1.756732e-11</td><td>-9.103396e-02</td><td>-4.994578e-02</td></tr>\n",
       "\t<tr><th scope=row>5</th><td>JobSatisfaction        </td><td>-6.087425e-02</td><td>1.755289e-02</td><td>-3.4680476</td><td>5.242545e-04</td><td>-9.527728e-02</td><td>-2.647122e-02</td></tr>\n",
       "\t<tr><th scope=row>6</th><td>OverTimeYes            </td><td> 2.131235e-01</td><td>2.313258e-02</td><td> 9.2131327</td><td>3.167431e-20</td><td> 1.677845e-01</td><td> 2.584626e-01</td></tr>\n",
       "\t<tr><th scope=row>7</th><td>PerformanceRating      </td><td>-1.464689e-02</td><td>2.452788e-02</td><td>-0.5971528</td><td>5.504053e-01</td><td>-6.272066e-02</td><td> 3.342687e-02</td></tr>\n",
       "\t<tr><th scope=row>8</th><td>satisfied              </td><td> 6.239719e-02</td><td>3.965710e-02</td><td> 1.5734178</td><td>1.156221e-01</td><td>-1.532930e-02</td><td> 1.401237e-01</td></tr>\n",
       "\t<tr><th scope=row>9</th><td>WorkLifeBalance2       </td><td>-1.290445e-01</td><td>4.813785e-02</td><td>-2.6807279</td><td>7.346221e-03</td><td>-2.233929e-01</td><td>-3.469603e-02</td></tr>\n",
       "\t<tr><th scope=row>10</th><td>WorkLifeBalance3       </td><td>-1.544329e-01</td><td>4.581395e-02</td><td>-3.3708702</td><td>7.493115e-04</td><td>-2.442266e-01</td><td>-6.463918e-02</td></tr>\n",
       "\t<tr><th scope=row>11</th><td>WorkLifeBalance4       </td><td>-1.084737e-01</td><td>5.340319e-02</td><td>-2.0312213</td><td>4.223255e-02</td><td>-2.131420e-01</td><td>-3.805366e-03</td></tr>\n",
       "\t<tr><th scope=row>12</th><td>YearsSinceLastPromotion</td><td> 4.740455e-03</td><td>3.105767e-03</td><td> 1.5263396</td><td>1.269253e-01</td><td>-1.346736e-03</td><td> 1.082765e-02</td></tr>\n",
       "</tbody>\n",
       "</table>\n"
      ],
      "text/latex": [
       "A summary.margins: 12 × 7\n",
       "\\begin{tabular}{r|lllllll}\n",
       "  & factor & AME & SE & z & p & lower & upper\\\\\n",
       "  & <chr> & <dbl> & <dbl> & <dbl> & <dbl> & <dbl> & <dbl>\\\\\n",
       "\\hline\n",
       "\t1 & DailyRate               & -4.364148e-05 & 2.160049e-05 & -2.0203932 & 4.334261e-02 & -8.597767e-05 & -1.305302e-06\\\\\n",
       "\t2 & EnvironmentSatisfaction & -3.867693e-02 & 7.894631e-03 & -4.8991433 & 9.625544e-07 & -5.415012e-02 & -2.320374e-02\\\\\n",
       "\t3 & JobInvolvement          & -6.188219e-02 & 1.158526e-02 & -5.3414567 & 9.220264e-08 & -8.458889e-02 & -3.917549e-02\\\\\n",
       "\t4 & JobLevel                & -7.048987e-02 & 1.048187e-02 & -6.7249331 & 1.756732e-11 & -9.103396e-02 & -4.994578e-02\\\\\n",
       "\t5 & JobSatisfaction         & -6.087425e-02 & 1.755289e-02 & -3.4680476 & 5.242545e-04 & -9.527728e-02 & -2.647122e-02\\\\\n",
       "\t6 & OverTimeYes             &  2.131235e-01 & 2.313258e-02 &  9.2131327 & 3.167431e-20 &  1.677845e-01 &  2.584626e-01\\\\\n",
       "\t7 & PerformanceRating       & -1.464689e-02 & 2.452788e-02 & -0.5971528 & 5.504053e-01 & -6.272066e-02 &  3.342687e-02\\\\\n",
       "\t8 & satisfied               &  6.239719e-02 & 3.965710e-02 &  1.5734178 & 1.156221e-01 & -1.532930e-02 &  1.401237e-01\\\\\n",
       "\t9 & WorkLifeBalance2        & -1.290445e-01 & 4.813785e-02 & -2.6807279 & 7.346221e-03 & -2.233929e-01 & -3.469603e-02\\\\\n",
       "\t10 & WorkLifeBalance3        & -1.544329e-01 & 4.581395e-02 & -3.3708702 & 7.493115e-04 & -2.442266e-01 & -6.463918e-02\\\\\n",
       "\t11 & WorkLifeBalance4        & -1.084737e-01 & 5.340319e-02 & -2.0312213 & 4.223255e-02 & -2.131420e-01 & -3.805366e-03\\\\\n",
       "\t12 & YearsSinceLastPromotion &  4.740455e-03 & 3.105767e-03 &  1.5263396 & 1.269253e-01 & -1.346736e-03 &  1.082765e-02\\\\\n",
       "\\end{tabular}\n"
      ],
      "text/markdown": [
       "\n",
       "A summary.margins: 12 × 7\n",
       "\n",
       "| <!--/--> | factor &lt;chr&gt; | AME &lt;dbl&gt; | SE &lt;dbl&gt; | z &lt;dbl&gt; | p &lt;dbl&gt; | lower &lt;dbl&gt; | upper &lt;dbl&gt; |\n",
       "|---|---|---|---|---|---|---|---|\n",
       "| 1 | DailyRate               | -4.364148e-05 | 2.160049e-05 | -2.0203932 | 4.334261e-02 | -8.597767e-05 | -1.305302e-06 |\n",
       "| 2 | EnvironmentSatisfaction | -3.867693e-02 | 7.894631e-03 | -4.8991433 | 9.625544e-07 | -5.415012e-02 | -2.320374e-02 |\n",
       "| 3 | JobInvolvement          | -6.188219e-02 | 1.158526e-02 | -5.3414567 | 9.220264e-08 | -8.458889e-02 | -3.917549e-02 |\n",
       "| 4 | JobLevel                | -7.048987e-02 | 1.048187e-02 | -6.7249331 | 1.756732e-11 | -9.103396e-02 | -4.994578e-02 |\n",
       "| 5 | JobSatisfaction         | -6.087425e-02 | 1.755289e-02 | -3.4680476 | 5.242545e-04 | -9.527728e-02 | -2.647122e-02 |\n",
       "| 6 | OverTimeYes             |  2.131235e-01 | 2.313258e-02 |  9.2131327 | 3.167431e-20 |  1.677845e-01 |  2.584626e-01 |\n",
       "| 7 | PerformanceRating       | -1.464689e-02 | 2.452788e-02 | -0.5971528 | 5.504053e-01 | -6.272066e-02 |  3.342687e-02 |\n",
       "| 8 | satisfied               |  6.239719e-02 | 3.965710e-02 |  1.5734178 | 1.156221e-01 | -1.532930e-02 |  1.401237e-01 |\n",
       "| 9 | WorkLifeBalance2        | -1.290445e-01 | 4.813785e-02 | -2.6807279 | 7.346221e-03 | -2.233929e-01 | -3.469603e-02 |\n",
       "| 10 | WorkLifeBalance3        | -1.544329e-01 | 4.581395e-02 | -3.3708702 | 7.493115e-04 | -2.442266e-01 | -6.463918e-02 |\n",
       "| 11 | WorkLifeBalance4        | -1.084737e-01 | 5.340319e-02 | -2.0312213 | 4.223255e-02 | -2.131420e-01 | -3.805366e-03 |\n",
       "| 12 | YearsSinceLastPromotion |  4.740455e-03 | 3.105767e-03 |  1.5263396 | 1.269253e-01 | -1.346736e-03 |  1.082765e-02 |\n",
       "\n"
      ],
      "text/plain": [
       "   factor                  AME           SE           z          p           \n",
       "1  DailyRate               -4.364148e-05 2.160049e-05 -2.0203932 4.334261e-02\n",
       "2  EnvironmentSatisfaction -3.867693e-02 7.894631e-03 -4.8991433 9.625544e-07\n",
       "3  JobInvolvement          -6.188219e-02 1.158526e-02 -5.3414567 9.220264e-08\n",
       "4  JobLevel                -7.048987e-02 1.048187e-02 -6.7249331 1.756732e-11\n",
       "5  JobSatisfaction         -6.087425e-02 1.755289e-02 -3.4680476 5.242545e-04\n",
       "6  OverTimeYes              2.131235e-01 2.313258e-02  9.2131327 3.167431e-20\n",
       "7  PerformanceRating       -1.464689e-02 2.452788e-02 -0.5971528 5.504053e-01\n",
       "8  satisfied                6.239719e-02 3.965710e-02  1.5734178 1.156221e-01\n",
       "9  WorkLifeBalance2        -1.290445e-01 4.813785e-02 -2.6807279 7.346221e-03\n",
       "10 WorkLifeBalance3        -1.544329e-01 4.581395e-02 -3.3708702 7.493115e-04\n",
       "11 WorkLifeBalance4        -1.084737e-01 5.340319e-02 -2.0312213 4.223255e-02\n",
       "12 YearsSinceLastPromotion  4.740455e-03 3.105767e-03  1.5263396 1.269253e-01\n",
       "   lower         upper        \n",
       "1  -8.597767e-05 -1.305302e-06\n",
       "2  -5.415012e-02 -2.320374e-02\n",
       "3  -8.458889e-02 -3.917549e-02\n",
       "4  -9.103396e-02 -4.994578e-02\n",
       "5  -9.527728e-02 -2.647122e-02\n",
       "6   1.677845e-01  2.584626e-01\n",
       "7  -6.272066e-02  3.342687e-02\n",
       "8  -1.532930e-02  1.401237e-01\n",
       "9  -2.233929e-01 -3.469603e-02\n",
       "10 -2.442266e-01 -6.463918e-02\n",
       "11 -2.131420e-01 -3.805366e-03\n",
       "12 -1.346736e-03  1.082765e-02"
      ]
     },
     "metadata": {},
     "output_type": "display_data"
    }
   ],
   "source": [
    "summary(margins(logistic_model))"
   ]
  },
  {
   "attachments": {},
   "cell_type": "markdown",
   "metadata": {},
   "source": [
    "Looking at the treatment variable rows i.e. rows 9, 10, & 11, we see that the coefficients for AME are negative for all three levels: 2, 3, & 4. This indicates that the probability of attrition is lower for employees with better work-life balance. This is in line with the results from the linear probability model & what you would expect intuitively."
   ]
  },
  {
   "attachments": {},
   "cell_type": "markdown",
   "metadata": {},
   "source": [
    "### Question 4: Model with count data"
   ]
  },
  {
   "cell_type": "code",
   "execution_count": 18,
   "metadata": {
    "vscode": {
     "languageId": "r"
    }
   },
   "outputs": [
    {
     "name": "stderr",
     "output_type": "stream",
     "text": [
      "\u001b[1mRows: \u001b[22m\u001b[34m1610\u001b[39m \u001b[1mColumns: \u001b[22m\u001b[34m11\u001b[39m\n",
      "\u001b[36m--\u001b[39m \u001b[1mColumn specification\u001b[22m \u001b[36m--------------------------------------------------------\u001b[39m\n",
      "\u001b[1mDelimiter:\u001b[22m \",\"\n",
      "\u001b[32mdbl\u001b[39m (11): country, year, gdp, pop, gold, silver, bronze, medaltot, host, pla...\n",
      "\n",
      "\u001b[36mi\u001b[39m Use `spec()` to retrieve the full column specification for this data.\n",
      "\u001b[36mi\u001b[39m Specify the column types or set `show_col_types = FALSE` to quiet this message.\n"
     ]
    },
    {
     "data": {
      "text/html": [
       "<table class=\"dataframe\">\n",
       "<caption>A tibble: 6 × 11</caption>\n",
       "<thead>\n",
       "\t<tr><th scope=col>country</th><th scope=col>year</th><th scope=col>gdp</th><th scope=col>pop</th><th scope=col>gold</th><th scope=col>silver</th><th scope=col>bronze</th><th scope=col>medaltot</th><th scope=col>host</th><th scope=col>planned</th><th scope=col>soviet</th></tr>\n",
       "\t<tr><th scope=col>&lt;dbl&gt;</th><th scope=col>&lt;dbl&gt;</th><th scope=col>&lt;dbl&gt;</th><th scope=col>&lt;dbl&gt;</th><th scope=col>&lt;dbl&gt;</th><th scope=col>&lt;dbl&gt;</th><th scope=col>&lt;dbl&gt;</th><th scope=col>&lt;dbl&gt;</th><th scope=col>&lt;dbl&gt;</th><th scope=col>&lt;dbl&gt;</th><th scope=col>&lt;dbl&gt;</th></tr>\n",
       "</thead>\n",
       "<tbody>\n",
       "\t<tr><td>1</td><td>80</td><td>2.66e+10</td><td>16000000</td><td> 0</td><td> 0</td><td> 0</td><td> 0</td><td>0</td><td>0</td><td>0</td></tr>\n",
       "\t<tr><td>1</td><td>84</td><td>2.99e+10</td><td>17600000</td><td>NA</td><td>NA</td><td>NA</td><td>NA</td><td>0</td><td>0</td><td>0</td></tr>\n",
       "\t<tr><td>2</td><td>80</td><td>2.45e+09</td><td> 2671000</td><td>NA</td><td>NA</td><td>NA</td><td>NA</td><td>0</td><td>1</td><td>0</td></tr>\n",
       "\t<tr><td>2</td><td>84</td><td>2.66e+09</td><td> 2897000</td><td>NA</td><td>NA</td><td>NA</td><td>NA</td><td>0</td><td>1</td><td>0</td></tr>\n",
       "\t<tr><td>2</td><td>88</td><td>2.80e+09</td><td> 3138000</td><td>NA</td><td>NA</td><td>NA</td><td>NA</td><td>0</td><td>1</td><td>0</td></tr>\n",
       "\t<tr><td>3</td><td>80</td><td>3.16e+10</td><td>18700000</td><td> 0</td><td> 0</td><td> 0</td><td> 0</td><td>0</td><td>0</td><td>0</td></tr>\n",
       "</tbody>\n",
       "</table>\n"
      ],
      "text/latex": [
       "A tibble: 6 × 11\n",
       "\\begin{tabular}{lllllllllll}\n",
       " country & year & gdp & pop & gold & silver & bronze & medaltot & host & planned & soviet\\\\\n",
       " <dbl> & <dbl> & <dbl> & <dbl> & <dbl> & <dbl> & <dbl> & <dbl> & <dbl> & <dbl> & <dbl>\\\\\n",
       "\\hline\n",
       "\t 1 & 80 & 2.66e+10 & 16000000 &  0 &  0 &  0 &  0 & 0 & 0 & 0\\\\\n",
       "\t 1 & 84 & 2.99e+10 & 17600000 & NA & NA & NA & NA & 0 & 0 & 0\\\\\n",
       "\t 2 & 80 & 2.45e+09 &  2671000 & NA & NA & NA & NA & 0 & 1 & 0\\\\\n",
       "\t 2 & 84 & 2.66e+09 &  2897000 & NA & NA & NA & NA & 0 & 1 & 0\\\\\n",
       "\t 2 & 88 & 2.80e+09 &  3138000 & NA & NA & NA & NA & 0 & 1 & 0\\\\\n",
       "\t 3 & 80 & 3.16e+10 & 18700000 &  0 &  0 &  0 &  0 & 0 & 0 & 0\\\\\n",
       "\\end{tabular}\n"
      ],
      "text/markdown": [
       "\n",
       "A tibble: 6 × 11\n",
       "\n",
       "| country &lt;dbl&gt; | year &lt;dbl&gt; | gdp &lt;dbl&gt; | pop &lt;dbl&gt; | gold &lt;dbl&gt; | silver &lt;dbl&gt; | bronze &lt;dbl&gt; | medaltot &lt;dbl&gt; | host &lt;dbl&gt; | planned &lt;dbl&gt; | soviet &lt;dbl&gt; |\n",
       "|---|---|---|---|---|---|---|---|---|---|---|\n",
       "| 1 | 80 | 2.66e+10 | 16000000 |  0 |  0 |  0 |  0 | 0 | 0 | 0 |\n",
       "| 1 | 84 | 2.99e+10 | 17600000 | NA | NA | NA | NA | 0 | 0 | 0 |\n",
       "| 2 | 80 | 2.45e+09 |  2671000 | NA | NA | NA | NA | 0 | 1 | 0 |\n",
       "| 2 | 84 | 2.66e+09 |  2897000 | NA | NA | NA | NA | 0 | 1 | 0 |\n",
       "| 2 | 88 | 2.80e+09 |  3138000 | NA | NA | NA | NA | 0 | 1 | 0 |\n",
       "| 3 | 80 | 3.16e+10 | 18700000 |  0 |  0 |  0 |  0 | 0 | 0 | 0 |\n",
       "\n"
      ],
      "text/plain": [
       "  country year gdp      pop      gold silver bronze medaltot host planned\n",
       "1 1       80   2.66e+10 16000000  0    0      0      0       0    0      \n",
       "2 1       84   2.99e+10 17600000 NA   NA     NA     NA       0    0      \n",
       "3 2       80   2.45e+09  2671000 NA   NA     NA     NA       0    1      \n",
       "4 2       84   2.66e+09  2897000 NA   NA     NA     NA       0    1      \n",
       "5 2       88   2.80e+09  3138000 NA   NA     NA     NA       0    1      \n",
       "6 3       80   3.16e+10 18700000  0    0      0      0       0    0      \n",
       "  soviet\n",
       "1 0     \n",
       "2 0     \n",
       "3 0     \n",
       "4 0     \n",
       "5 0     \n",
       "6 0     "
      ]
     },
     "metadata": {},
     "output_type": "display_data"
    }
   ],
   "source": [
    "df <- read_csv(\"https://raw.githubusercontent.com/ahdvnd/ss154-data/main/olympics_data.csv\")\n",
    "head(df)"
   ]
  },
  {
   "cell_type": "code",
   "execution_count": 19,
   "metadata": {
    "vscode": {
     "languageId": "r"
    }
   },
   "outputs": [
    {
     "data": {
      "text/html": [
       "<table class=\"dataframe\">\n",
       "<caption>A tibble: 6 × 11</caption>\n",
       "<thead>\n",
       "\t<tr><th scope=col>country</th><th scope=col>year</th><th scope=col>gdp</th><th scope=col>pop</th><th scope=col>gold</th><th scope=col>silver</th><th scope=col>bronze</th><th scope=col>medaltot</th><th scope=col>host</th><th scope=col>planned</th><th scope=col>soviet</th></tr>\n",
       "\t<tr><th scope=col>&lt;dbl&gt;</th><th scope=col>&lt;dbl&gt;</th><th scope=col>&lt;dbl&gt;</th><th scope=col>&lt;dbl&gt;</th><th scope=col>&lt;dbl&gt;</th><th scope=col>&lt;dbl&gt;</th><th scope=col>&lt;dbl&gt;</th><th scope=col>&lt;dbl&gt;</th><th scope=col>&lt;dbl&gt;</th><th scope=col>&lt;dbl&gt;</th><th scope=col>&lt;dbl&gt;</th></tr>\n",
       "</thead>\n",
       "<tbody>\n",
       "\t<tr><td>1</td><td>92</td><td>2.09e+10</td><td>21500000</td><td>0</td><td>0</td><td>0</td><td>0</td><td>0</td><td>0</td><td>0</td></tr>\n",
       "\t<tr><td>1</td><td>96</td><td>3.31e+10</td><td>24200000</td><td>0</td><td>0</td><td>0</td><td>0</td><td>0</td><td>0</td><td>0</td></tr>\n",
       "\t<tr><td>2</td><td>92</td><td>1.86e+09</td><td> 3190000</td><td>0</td><td>0</td><td>0</td><td>0</td><td>0</td><td>1</td><td>0</td></tr>\n",
       "\t<tr><td>2</td><td>96</td><td>2.65e+09</td><td> 3286000</td><td>0</td><td>0</td><td>0</td><td>0</td><td>0</td><td>0</td><td>0</td></tr>\n",
       "\t<tr><td>3</td><td>92</td><td>4.11e+10</td><td>26300000</td><td>1</td><td>0</td><td>1</td><td>2</td><td>0</td><td>0</td><td>0</td></tr>\n",
       "\t<tr><td>3</td><td>96</td><td>4.28e+10</td><td>28700000</td><td>2</td><td>0</td><td>1</td><td>3</td><td>0</td><td>0</td><td>0</td></tr>\n",
       "</tbody>\n",
       "</table>\n"
      ],
      "text/latex": [
       "A tibble: 6 × 11\n",
       "\\begin{tabular}{lllllllllll}\n",
       " country & year & gdp & pop & gold & silver & bronze & medaltot & host & planned & soviet\\\\\n",
       " <dbl> & <dbl> & <dbl> & <dbl> & <dbl> & <dbl> & <dbl> & <dbl> & <dbl> & <dbl> & <dbl>\\\\\n",
       "\\hline\n",
       "\t 1 & 92 & 2.09e+10 & 21500000 & 0 & 0 & 0 & 0 & 0 & 0 & 0\\\\\n",
       "\t 1 & 96 & 3.31e+10 & 24200000 & 0 & 0 & 0 & 0 & 0 & 0 & 0\\\\\n",
       "\t 2 & 92 & 1.86e+09 &  3190000 & 0 & 0 & 0 & 0 & 0 & 1 & 0\\\\\n",
       "\t 2 & 96 & 2.65e+09 &  3286000 & 0 & 0 & 0 & 0 & 0 & 0 & 0\\\\\n",
       "\t 3 & 92 & 4.11e+10 & 26300000 & 1 & 0 & 1 & 2 & 0 & 0 & 0\\\\\n",
       "\t 3 & 96 & 4.28e+10 & 28700000 & 2 & 0 & 1 & 3 & 0 & 0 & 0\\\\\n",
       "\\end{tabular}\n"
      ],
      "text/markdown": [
       "\n",
       "A tibble: 6 × 11\n",
       "\n",
       "| country &lt;dbl&gt; | year &lt;dbl&gt; | gdp &lt;dbl&gt; | pop &lt;dbl&gt; | gold &lt;dbl&gt; | silver &lt;dbl&gt; | bronze &lt;dbl&gt; | medaltot &lt;dbl&gt; | host &lt;dbl&gt; | planned &lt;dbl&gt; | soviet &lt;dbl&gt; |\n",
       "|---|---|---|---|---|---|---|---|---|---|---|\n",
       "| 1 | 92 | 2.09e+10 | 21500000 | 0 | 0 | 0 | 0 | 0 | 0 | 0 |\n",
       "| 1 | 96 | 3.31e+10 | 24200000 | 0 | 0 | 0 | 0 | 0 | 0 | 0 |\n",
       "| 2 | 92 | 1.86e+09 |  3190000 | 0 | 0 | 0 | 0 | 0 | 1 | 0 |\n",
       "| 2 | 96 | 2.65e+09 |  3286000 | 0 | 0 | 0 | 0 | 0 | 0 | 0 |\n",
       "| 3 | 92 | 4.11e+10 | 26300000 | 1 | 0 | 1 | 2 | 0 | 0 | 0 |\n",
       "| 3 | 96 | 4.28e+10 | 28700000 | 2 | 0 | 1 | 3 | 0 | 0 | 0 |\n",
       "\n"
      ],
      "text/plain": [
       "  country year gdp      pop      gold silver bronze medaltot host planned\n",
       "1 1       92   2.09e+10 21500000 0    0      0      0        0    0      \n",
       "2 1       96   3.31e+10 24200000 0    0      0      0        0    0      \n",
       "3 2       92   1.86e+09  3190000 0    0      0      0        0    1      \n",
       "4 2       96   2.65e+09  3286000 0    0      0      0        0    0      \n",
       "5 3       92   4.11e+10 26300000 1    0      1      2        0    0      \n",
       "6 3       96   4.28e+10 28700000 2    0      1      3        0    0      \n",
       "  soviet\n",
       "1 0     \n",
       "2 0     \n",
       "3 0     \n",
       "4 0     \n",
       "5 0     \n",
       "6 0     "
      ]
     },
     "metadata": {},
     "output_type": "display_data"
    }
   ],
   "source": [
    "# Filtering the data frame to only include results from 1992 and 1996\n",
    "df <- df %>% \n",
    "    filter(year %in% c(92, 96))\n",
    "# remove the missing values\n",
    "df <- na.omit(df)\n",
    "head(df)"
   ]
  },
  {
   "cell_type": "code",
   "execution_count": 20,
   "metadata": {
    "vscode": {
     "languageId": "r"
    }
   },
   "outputs": [
    {
     "data": {
      "text/plain": [
       "\n",
       "Call:\n",
       "glm(formula = medaltot ~ log(gdp) + soviet + host, family = poisson, \n",
       "    data = df)\n",
       "\n",
       "Deviance Residuals: \n",
       "    Min       1Q   Median       3Q      Max  \n",
       "-8.2674  -1.4660  -0.9115  -0.3564  10.3957  \n",
       "\n",
       "Coefficients:\n",
       "             Estimate Std. Error z value Pr(>|z|)    \n",
       "(Intercept) -14.65548    0.33319 -43.986   <2e-16 ***\n",
       "log(gdp)      0.64548    0.01255  51.432   <2e-16 ***\n",
       "soviet        2.22672    0.08183  27.212   <2e-16 ***\n",
       "host          0.18027    0.10025   1.798   0.0722 .  \n",
       "---\n",
       "Signif. codes:  0 '***' 0.001 '**' 0.01 '*' 0.05 '.' 0.1 ' ' 1\n",
       "\n",
       "(Dispersion parameter for poisson family taken to be 1)\n",
       "\n",
       "    Null deviance: 5844.8  on 356  degrees of freedom\n",
       "Residual deviance: 1726.8  on 353  degrees of freedom\n",
       "AIC: 2225.2\n",
       "\n",
       "Number of Fisher Scoring iterations: 6\n"
      ]
     },
     "metadata": {},
     "output_type": "display_data"
    }
   ],
   "source": [
    "poisson_model <- glm(medaltot ~ log(gdp) + soviet + host, data = df, family = poisson)\n",
    "summary(poisson_model)"
   ]
  },
  {
   "attachments": {},
   "cell_type": "markdown",
   "metadata": {},
   "source": [
    "**4.2:**  \n",
    "In Poisson regression models, the coefficients represent the change in the expected count of the outcome variable associated with a one-unit increase in the corresponding predictor variable, holding all other variables constant. The coefficients are in log units. The interpretation of the coefficients is the same as in linear regression models. The coefficients can be converted to the expected change in the outcome variable by taking the exponential of the coefficient. The coefficients can also be converted to the percentage change in the outcome variable by taking the exponential of the coefficient and subtracting 1 from it.  \n",
    "In this model, coefficient for the variable \"host\" is 0.18027 with a p-value of 0.0722. This indicates that, on average, countries that host the Olympics are expected to have 18.027% more medals than countries that do not host the Olympics. This is in log units. Expected change in the outcome can be seen through the following: $e^{0.18027} \\approx 1.197$ times the number of the medals of a non-host nation. In terms of percentage change, this is $e^{0.18027} - 1 \\approx 19.7$% more medals than a non-host nation.  \n",
    "This positive increase is as expected, consistent with the idea that host countries will have a home advantage of sorts."
   ]
  },
  {
   "attachments": {},
   "cell_type": "markdown",
   "metadata": {},
   "source": [
    "**4.3:**"
   ]
  },
  {
   "attachments": {},
   "cell_type": "markdown",
   "metadata": {},
   "source": [
    "When we use the Poisson regression model, we assume that the variance and the mean of the outcome variable (count variabele) are equal i.e. $\\mu = \\sigma^2$. This is the equidispersion assumption. In case this is not met, the standard errors of the coefficients will be biased and they overestimate the statistical significance of the coefficients.  \n",
    "We can test for overdispersion by dividing the residual deviance by the degrees of freedom. If the result is greater than 1, then the model is overdispersed. While there is no cut off point with using this method, a value of 1.1 is often used as a threshold as a rule of thumb.  \n",
    "Here, we do: 1726.8/353 = 4.9 which is greater than 1.1. This indicates that the model is overdispersed. We can also use the AER package in R to test for overdispersion although it returns slightly different values. The workings of that are beyond the scope of this paper."
   ]
  },
  {
   "cell_type": "code",
   "execution_count": 21,
   "metadata": {
    "vscode": {
     "languageId": "r"
    }
   },
   "outputs": [
    {
     "data": {
      "text/plain": [
       "\n",
       "\tOverdispersion test\n",
       "\n",
       "data:  poisson_model\n",
       "z = 4.8872, p-value = 5.115e-07\n",
       "alternative hypothesis: true dispersion is greater than 1\n",
       "sample estimates:\n",
       "dispersion \n",
       "  6.859111 \n"
      ]
     },
     "metadata": {},
     "output_type": "display_data"
    }
   ],
   "source": [
    "dispersiontest(poisson_model)"
   ]
  },
  {
   "attachments": {},
   "cell_type": "markdown",
   "metadata": {},
   "source": [
    "Since this model suffers from over-dispersion, we can use a negative binomial model to account for this. The negative binomial model is a generalization of the Poisson model. It is used when the variance of the outcome variable is greater than the mean. The negative binomial model is a count regression model that allows for overdispersion. It is a generalized linear model that uses a log link function and a logit link function."
   ]
  },
  {
   "cell_type": "code",
   "execution_count": 22,
   "metadata": {
    "vscode": {
     "languageId": "r"
    }
   },
   "outputs": [
    {
     "data": {
      "text/plain": [
       "\n",
       "Call:\n",
       "glm.nb(formula = medaltot ~ log(gdp) + soviet + host, data = df, \n",
       "    link = \"log\", init.theta = 0.4653991908)\n",
       "\n",
       "Deviance Residuals: \n",
       "    Min       1Q   Median       3Q      Max  \n",
       "-1.7434  -0.9046  -0.6232  -0.1719   2.7138  \n",
       "\n",
       "Coefficients:\n",
       "             Estimate Std. Error z value Pr(>|z|)    \n",
       "(Intercept) -17.00626    1.15152 -14.769  < 2e-16 ***\n",
       "log(gdp)      0.73920    0.04775  15.481  < 2e-16 ***\n",
       "soviet        2.61761    0.85890   3.048  0.00231 ** \n",
       "host         -0.05307    1.06859  -0.050  0.96039    \n",
       "---\n",
       "Signif. codes:  0 '***' 0.001 '**' 0.01 '*' 0.05 '.' 0.1 ' ' 1\n",
       "\n",
       "(Dispersion parameter for Negative Binomial(0.4654) family taken to be 1)\n",
       "\n",
       "    Null deviance: 663.43  on 356  degrees of freedom\n",
       "Residual deviance: 283.53  on 353  degrees of freedom\n",
       "AIC: 1174.2\n",
       "\n",
       "Number of Fisher Scoring iterations: 1\n",
       "\n",
       "\n",
       "              Theta:  0.4654 \n",
       "          Std. Err.:  0.0610 \n",
       "\n",
       " 2 x log-likelihood:  -1164.1700 "
      ]
     },
     "metadata": {},
     "output_type": "display_data"
    }
   ],
   "source": [
    "# make a negative binomial model\n",
    "nb_model <- glm.nb(medaltot ~ log(gdp) + soviet + host, data = df, link = \"log\")\n",
    "summary(nb_model)"
   ]
  },
  {
   "attachments": {},
   "cell_type": "markdown",
   "metadata": {},
   "source": [
    "From the results of the negative binomial model, we can see that the results indicate a negative coefficienet for the variable \"host\" but the main indicator is the p-value which is 0.96039 indicating that the coefficient is not statistically significant. The overdispersion parameter can also be found in the results which is below 1 now indicating that overdispersion is not an issue anymore with the negative binomial model providing a better fit than the Poisson model."
   ]
  }
 ],
 "metadata": {
  "kernelspec": {
   "display_name": "R",
   "language": "R",
   "name": "ir"
  },
  "language_info": {
   "codemirror_mode": "r",
   "file_extension": ".r",
   "mimetype": "text/x-r-source",
   "name": "R",
   "pygments_lexer": "r",
   "version": "4.1.2"
  },
  "orig_nbformat": 4
 },
 "nbformat": 4,
 "nbformat_minor": 2
}
